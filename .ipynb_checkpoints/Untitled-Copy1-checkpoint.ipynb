{
 "cells": [
  {
   "cell_type": "markdown",
   "metadata": {},
   "source": [
    "Import required packages"
   ]
  },
  {
   "cell_type": "code",
   "execution_count": 1,
   "metadata": {
    "collapsed": true
   },
   "outputs": [],
   "source": [
    "import pandas as pd\n",
    "import numpy as np\n",
    "import operator as op\n",
    "import datetime"
   ]
  },
  {
   "cell_type": "markdown",
   "metadata": {},
   "source": [
    "Set options for pandas' display options"
   ]
  },
  {
   "cell_type": "code",
   "execution_count": 2,
   "metadata": {
    "collapsed": true
   },
   "outputs": [],
   "source": [
    "pd.set_option('display.width',5)\n",
    "pd.set_option('display.max_rows', 10)\n",
    "pd.set_option('display.width', 1000)"
   ]
  },
  {
   "cell_type": "markdown",
   "metadata": {},
   "source": [
    "Import CSV file"
   ]
  },
  {
   "cell_type": "code",
   "execution_count": 3,
   "metadata": {
    "collapsed": false
   },
   "outputs": [
    {
     "name": "stdout",
     "output_type": "stream",
     "text": [
      "<class 'pandas.core.frame.DataFrame'>\n",
      "RangeIndex: 574223 entries, 0 to 574222\n",
      "Data columns (total 4 columns):\n",
      "Date                               574223 non-null object\n",
      "Monthly AverageTemp                541645 non-null float64\n",
      "Monthly AverageTemp Uncertainty    542384 non-null float64\n",
      "Country                            574223 non-null object\n",
      "dtypes: float64(2), object(2)\n",
      "memory usage: 17.5+ MB\n",
      "None\n",
      "              Date  Monthly AverageTemp  Monthly AverageTemp Uncertainty      Country\n",
      "0       1838-04-01               13.008                            2.586  Afghanistan\n",
      "1       1838-05-01                  NaN                              NaN  Afghanistan\n",
      "2       1838-06-01               23.950                            2.510  Afghanistan\n",
      "3       1838-07-01               26.877                            2.883  Afghanistan\n",
      "4       1838-08-01               24.938                            2.992  Afghanistan\n",
      "...            ...                  ...                              ...          ...\n",
      "574218    5/1/2013               19.059                            1.022     Zimbabwe\n",
      "574219    6/1/2013               17.613                            0.473     Zimbabwe\n",
      "574220    7/1/2013               17.000                            0.453     Zimbabwe\n",
      "574221    8/1/2013               19.759                            0.717     Zimbabwe\n",
      "574222    9/1/2013                  NaN                              NaN     Zimbabwe\n",
      "\n",
      "[574223 rows x 4 columns]\n"
     ]
    }
   ],
   "source": [
    "temp = pd.read_csv('TEMP.csv')\n",
    "print(temp.info())\n",
    "print(temp)"
   ]
  },
  {
   "cell_type": "markdown",
   "metadata": {},
   "source": [
    "Convert date to datetime field "
   ]
  },
  {
   "cell_type": "code",
   "execution_count": 5,
   "metadata": {
    "collapsed": false
   },
   "outputs": [
    {
     "name": "stdout",
     "output_type": "stream",
     "text": [
      "<class 'pandas.core.frame.DataFrame'>\n",
      "RangeIndex: 574223 entries, 0 to 574222\n",
      "Data columns (total 4 columns):\n",
      "Date                               574223 non-null datetime64[ns]\n",
      "Monthly AverageTemp                541645 non-null float64\n",
      "Monthly AverageTemp Uncertainty    542384 non-null float64\n",
      "Country                            574223 non-null object\n",
      "dtypes: datetime64[ns](1), float64(2), object(1)\n",
      "memory usage: 17.5+ MB\n",
      "None\n"
     ]
    }
   ],
   "source": [
    "temp['Date'] = pd.to_datetime(temp['Date'])\n",
    "print(temp.info())"
   ]
  },
  {
   "cell_type": "markdown",
   "metadata": {},
   "source": [
    "Filter out dates since 1900"
   ]
  },
  {
   "cell_type": "code",
   "execution_count": 6,
   "metadata": {
    "collapsed": false
   },
   "outputs": [
    {
     "ename": "NameError",
     "evalue": "name 'UStemp' is not defined",
     "output_type": "error",
     "traceback": [
      "\u001b[0;31m---------------------------------------------------------------------------\u001b[0m",
      "\u001b[0;31mNameError\u001b[0m                                 Traceback (most recent call last)",
      "\u001b[0;32m<ipython-input-6-9fb2137a99b0>\u001b[0m in \u001b[0;36m<module>\u001b[0;34m()\u001b[0m\n\u001b[1;32m      1\u001b[0m \u001b[0mdate_object\u001b[0m \u001b[1;33m=\u001b[0m \u001b[0mdatetime\u001b[0m\u001b[1;33m.\u001b[0m\u001b[0mdatetime\u001b[0m\u001b[1;33m(\u001b[0m\u001b[1;36m1900\u001b[0m\u001b[1;33m,\u001b[0m\u001b[1;36m1\u001b[0m\u001b[1;33m,\u001b[0m\u001b[1;36m1\u001b[0m\u001b[1;33m)\u001b[0m\u001b[1;33m\u001b[0m\u001b[0m\n\u001b[0;32m----> 2\u001b[0;31m \u001b[0mtemp1900\u001b[0m \u001b[1;33m=\u001b[0m \u001b[0mUStemp\u001b[0m\u001b[1;33m.\u001b[0m\u001b[0mloc\u001b[0m\u001b[1;33m[\u001b[0m\u001b[1;33m(\u001b[0m\u001b[0mtemp\u001b[0m\u001b[1;33m.\u001b[0m\u001b[0mDate\u001b[0m \u001b[1;33m>=\u001b[0m \u001b[0mdate_object\u001b[0m\u001b[1;33m)\u001b[0m\u001b[1;33m]\u001b[0m\u001b[1;33m\u001b[0m\u001b[0m\n\u001b[0m",
      "\u001b[0;31mNameError\u001b[0m: name 'UStemp' is not defined"
     ]
    }
   ],
   "source": [
    "date_object = datetime.datetime(1900,1,1)\n",
    "temp1900 = temp.loc[(temp.Date >= date_object)]"
   ]
  },
  {
   "cell_type": "code",
   "execution_count": null,
   "metadata": {
    "collapsed": true
   },
   "outputs": [],
   "source": []
  }
 ],
 "metadata": {
  "kernelspec": {
   "display_name": "Python [conda root]",
   "language": "python",
   "name": "conda-root-py"
  },
  "language_info": {
   "codemirror_mode": {
    "name": "ipython",
    "version": 3
   },
   "file_extension": ".py",
   "mimetype": "text/x-python",
   "name": "python",
   "nbconvert_exporter": "python",
   "pygments_lexer": "ipython3",
   "version": "3.5.2"
  }
 },
 "nbformat": 4,
 "nbformat_minor": 1
}
