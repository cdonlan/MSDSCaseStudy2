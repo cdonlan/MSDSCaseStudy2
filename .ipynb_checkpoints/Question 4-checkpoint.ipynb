{
 "cells": [
  {
   "cell_type": "markdown",
   "metadata": {},
   "source": [
    "# Question 04\n",
    "Import required packages"
   ]
  },
  {
   "cell_type": "code",
   "execution_count": 19,
   "metadata": {
    "collapsed": false
   },
   "outputs": [],
   "source": [
    "import pandas as pd\n",
    "import numpy as np\n",
    "import operator as op\n",
    "import datetime\n",
    "%matplotlib inline \n",
    "import matplotlib\n",
    "import matplotlib.pyplot as plt\n",
    "import warnings\n",
    "warnings.filterwarnings('ignore')"
   ]
  },
  {
   "cell_type": "markdown",
   "metadata": {},
   "source": [
    "Set options for pandas' display options"
   ]
  },
  {
   "cell_type": "code",
   "execution_count": 3,
   "metadata": {
    "collapsed": true
   },
   "outputs": [],
   "source": [
    "pd.set_option('display.width',5)\n",
    "pd.set_option('display.max_rows', 10)\n",
    "pd.set_option('display.width', 1000)"
   ]
  },
  {
   "cell_type": "markdown",
   "metadata": {},
   "source": [
    "# Part I\n",
    "Import CSV file"
   ]
  },
  {
   "cell_type": "code",
   "execution_count": 5,
   "metadata": {
    "collapsed": false,
    "scrolled": true
   },
   "outputs": [
    {
     "name": "stdout",
     "output_type": "stream",
     "text": [
      "<class 'pandas.core.frame.DataFrame'>\n",
      "RangeIndex: 574223 entries, 0 to 574222\n",
      "Data columns (total 4 columns):\n",
      "Date                               574223 non-null object\n",
      "Monthly AverageTemp                541645 non-null float64\n",
      "Monthly AverageTemp Uncertainty    542384 non-null float64\n",
      "Country                            574223 non-null object\n",
      "dtypes: float64(2), object(2)\n",
      "memory usage: 17.5+ MB\n",
      "None\n"
     ]
    }
   ],
   "source": [
    "temp = pd.read_csv('TEMP.csv')\n",
    "print(temp.info())"
   ]
  },
  {
   "cell_type": "markdown",
   "metadata": {},
   "source": [
    "Convert date to datetime "
   ]
  },
  {
   "cell_type": "code",
   "execution_count": 6,
   "metadata": {
    "collapsed": false
   },
   "outputs": [
    {
     "name": "stdout",
     "output_type": "stream",
     "text": [
      "<class 'pandas.core.frame.DataFrame'>\n",
      "RangeIndex: 574223 entries, 0 to 574222\n",
      "Data columns (total 4 columns):\n",
      "Date                               574223 non-null datetime64[ns]\n",
      "Monthly AverageTemp                541645 non-null float64\n",
      "Monthly AverageTemp Uncertainty    542384 non-null float64\n",
      "Country                            574223 non-null object\n",
      "dtypes: datetime64[ns](1), float64(2), object(1)\n",
      "memory usage: 17.5+ MB\n",
      "None\n"
     ]
    }
   ],
   "source": [
    "temp['Date'] = pd.to_datetime(temp['Date'])\n",
    "print(temp.info())"
   ]
  },
  {
   "cell_type": "markdown",
   "metadata": {},
   "source": [
    "Filter out dates later than 1900. Dataframe results 574223 to 328503 results."
   ]
  },
  {
   "cell_type": "code",
   "execution_count": 7,
   "metadata": {
    "collapsed": false
   },
   "outputs": [
    {
     "name": "stdout",
     "output_type": "stream",
     "text": [
      "<class 'pandas.core.frame.DataFrame'>\n",
      "Int64Index: 328503 entries, 741 to 574222\n",
      "Data columns (total 4 columns):\n",
      "Date                               328503 non-null datetime64[ns]\n",
      "Monthly AverageTemp                327454 non-null float64\n",
      "Monthly AverageTemp Uncertainty    328193 non-null float64\n",
      "Country                            328503 non-null object\n",
      "dtypes: datetime64[ns](1), float64(2), object(1)\n",
      "memory usage: 12.5+ MB\n",
      "None\n"
     ]
    }
   ],
   "source": [
    "date_object = datetime.datetime(1900,1,1)\n",
    "temp1900 = temp.loc[(temp.Date >= date_object)]\n",
    "print(temp1900.info())"
   ]
  },
  {
   "cell_type": "markdown",
   "metadata": {},
   "source": [
    "Group by country and get difference of max and min monthly averages"
   ]
  },
  {
   "cell_type": "code",
   "execution_count": 22,
   "metadata": {
    "collapsed": false
   },
   "outputs": [
    {
     "data": {
      "text/html": [
       "<div>\n",
       "<table border=\"1\" class=\"dataframe\">\n",
       "  <thead>\n",
       "    <tr style=\"text-align: right;\">\n",
       "      <th></th>\n",
       "      <th>Max</th>\n",
       "      <th>Min</th>\n",
       "      <th>Difference</th>\n",
       "    </tr>\n",
       "    <tr>\n",
       "      <th>Country</th>\n",
       "      <th></th>\n",
       "      <th></th>\n",
       "      <th></th>\n",
       "    </tr>\n",
       "  </thead>\n",
       "  <tbody>\n",
       "    <tr>\n",
       "      <th>Kazakhstan</th>\n",
       "      <td>25.562</td>\n",
       "      <td>-23.601</td>\n",
       "      <td>49.163</td>\n",
       "    </tr>\n",
       "    <tr>\n",
       "      <th>Mongolia</th>\n",
       "      <td>20.716</td>\n",
       "      <td>-27.294</td>\n",
       "      <td>48.010</td>\n",
       "    </tr>\n",
       "    <tr>\n",
       "      <th>Russia</th>\n",
       "      <td>16.893</td>\n",
       "      <td>-29.789</td>\n",
       "      <td>46.682</td>\n",
       "    </tr>\n",
       "    <tr>\n",
       "      <th>Canada</th>\n",
       "      <td>14.796</td>\n",
       "      <td>-28.736</td>\n",
       "      <td>43.532</td>\n",
       "    </tr>\n",
       "    <tr>\n",
       "      <th>Uzbekistan</th>\n",
       "      <td>30.375</td>\n",
       "      <td>-12.323</td>\n",
       "      <td>42.698</td>\n",
       "    </tr>\n",
       "    <tr>\n",
       "      <th>...</th>\n",
       "      <td>...</td>\n",
       "      <td>...</td>\n",
       "      <td>...</td>\n",
       "    </tr>\n",
       "    <tr>\n",
       "      <th>Denmark</th>\n",
       "      <td>0.699</td>\n",
       "      <td>-36.439</td>\n",
       "      <td>37.138</td>\n",
       "    </tr>\n",
       "    <tr>\n",
       "      <th>Lithuania</th>\n",
       "      <td>21.791</td>\n",
       "      <td>-15.179</td>\n",
       "      <td>36.970</td>\n",
       "    </tr>\n",
       "    <tr>\n",
       "      <th>Tajikistan</th>\n",
       "      <td>19.363</td>\n",
       "      <td>-16.466</td>\n",
       "      <td>35.829</td>\n",
       "    </tr>\n",
       "    <tr>\n",
       "      <th>Poland</th>\n",
       "      <td>22.509</td>\n",
       "      <td>-13.107</td>\n",
       "      <td>35.616</td>\n",
       "    </tr>\n",
       "    <tr>\n",
       "      <th>Armenia</th>\n",
       "      <td>25.291</td>\n",
       "      <td>-9.982</td>\n",
       "      <td>35.273</td>\n",
       "    </tr>\n",
       "  </tbody>\n",
       "</table>\n",
       "<p>20 rows × 3 columns</p>\n",
       "</div>"
      ],
      "text/plain": [
       "               Max     Min  Difference\n",
       "Country                               \n",
       "Kazakhstan  25.562 -23.601      49.163\n",
       "Mongolia    20.716 -27.294      48.010\n",
       "Russia      16.893 -29.789      46.682\n",
       "Canada      14.796 -28.736      43.532\n",
       "Uzbekistan  30.375 -12.323      42.698\n",
       "...            ...     ...         ...\n",
       "Denmark      0.699 -36.439      37.138\n",
       "Lithuania   21.791 -15.179      36.970\n",
       "Tajikistan  19.363 -16.466      35.829\n",
       "Poland      22.509 -13.107      35.616\n",
       "Armenia     25.291  -9.982      35.273\n",
       "\n",
       "[20 rows x 3 columns]"
      ]
     },
     "execution_count": 22,
     "metadata": {},
     "output_type": "execute_result"
    }
   ],
   "source": [
    "tempgrouped = temp1900.groupby('Country')\n",
    "monthly_average = tempgrouped[\"Monthly AverageTemp\"].agg({'Max':np.max,'Min':np.min})\n",
    "monthly_average['Difference'] = monthly_average['Max'] - monthly_average['Min']\n",
    "monthly_average = monthly_average.sort_values('Difference',ascending=False)\n",
    "monthly_average = monthly_average.head(20)\n",
    "monthly_average"
   ]
  },
  {
   "cell_type": "code",
   "execution_count": 8,
   "metadata": {
    "collapsed": false
   },
   "outputs": [
    {
     "data": {
      "text/plain": [
       "<matplotlib.figure.Figure at 0x166fd56bbe0>"
      ]
     },
     "metadata": {},
     "output_type": "display_data"
    },
    {
     "data": {
      "image/png": "[encoded data removed]",
      "text/plain": [
       "<matplotlib.figure.Figure at 0x16680cdca58>"
      ]
     },
     "metadata": {},
     "output_type": "display_data"
    }
   ],
   "source": [
    "plt.figure()\n",
    "plot = monthly_average.plot(kind='bar')\n",
    "plt.show()"
   ]
  },
  {
   "cell_type": "markdown",
   "metadata": {},
   "source": [
    "# Part II"
   ]
  },
  {
   "cell_type": "markdown",
   "metadata": {},
   "source": [
    "Part A"
   ]
  },
  {
   "cell_type": "code",
   "execution_count": 21,
   "metadata": {
    "collapsed": false
   },
   "outputs": [
    {
     "data": {
      "text/html": [
       "<div>\n",
       "<table border=\"1\" class=\"dataframe\">\n",
       "  <thead>\n",
       "    <tr style=\"text-align: right;\">\n",
       "      <th></th>\n",
       "      <th>Date</th>\n",
       "      <th>Monthly AverageTemp</th>\n",
       "      <th>Monthly AverageTemp Uncertainty</th>\n",
       "      <th>Country</th>\n",
       "      <th>Monthly AverageTemp F</th>\n",
       "    </tr>\n",
       "  </thead>\n",
       "  <tbody>\n",
       "    <tr>\n",
       "      <th>553217</th>\n",
       "      <td>1900-01-01</td>\n",
       "      <td>-2.573</td>\n",
       "      <td>0.443</td>\n",
       "      <td>United States</td>\n",
       "      <td>27.3686</td>\n",
       "    </tr>\n",
       "    <tr>\n",
       "      <th>553218</th>\n",
       "      <td>1900-02-01</td>\n",
       "      <td>-2.912</td>\n",
       "      <td>0.533</td>\n",
       "      <td>United States</td>\n",
       "      <td>26.7584</td>\n",
       "    </tr>\n",
       "    <tr>\n",
       "      <th>553219</th>\n",
       "      <td>1900-03-01</td>\n",
       "      <td>2.636</td>\n",
       "      <td>0.358</td>\n",
       "      <td>United States</td>\n",
       "      <td>36.7448</td>\n",
       "    </tr>\n",
       "    <tr>\n",
       "      <th>553220</th>\n",
       "      <td>1900-04-01</td>\n",
       "      <td>8.091</td>\n",
       "      <td>0.263</td>\n",
       "      <td>United States</td>\n",
       "      <td>46.5638</td>\n",
       "    </tr>\n",
       "    <tr>\n",
       "      <th>553221</th>\n",
       "      <td>1900-05-01</td>\n",
       "      <td>14.317</td>\n",
       "      <td>0.239</td>\n",
       "      <td>United States</td>\n",
       "      <td>57.7706</td>\n",
       "    </tr>\n",
       "    <tr>\n",
       "      <th>...</th>\n",
       "      <td>...</td>\n",
       "      <td>...</td>\n",
       "      <td>...</td>\n",
       "      <td>...</td>\n",
       "      <td>...</td>\n",
       "    </tr>\n",
       "    <tr>\n",
       "      <th>554577</th>\n",
       "      <td>2013-05-01</td>\n",
       "      <td>14.073</td>\n",
       "      <td>0.178</td>\n",
       "      <td>United States</td>\n",
       "      <td>57.3314</td>\n",
       "    </tr>\n",
       "    <tr>\n",
       "      <th>554578</th>\n",
       "      <td>2013-06-01</td>\n",
       "      <td>20.198</td>\n",
       "      <td>0.236</td>\n",
       "      <td>United States</td>\n",
       "      <td>68.3564</td>\n",
       "    </tr>\n",
       "    <tr>\n",
       "      <th>554579</th>\n",
       "      <td>2013-07-01</td>\n",
       "      <td>22.074</td>\n",
       "      <td>0.152</td>\n",
       "      <td>United States</td>\n",
       "      <td>71.7332</td>\n",
       "    </tr>\n",
       "    <tr>\n",
       "      <th>554580</th>\n",
       "      <td>2013-08-01</td>\n",
       "      <td>21.168</td>\n",
       "      <td>0.249</td>\n",
       "      <td>United States</td>\n",
       "      <td>70.1024</td>\n",
       "    </tr>\n",
       "    <tr>\n",
       "      <th>554581</th>\n",
       "      <td>2013-09-01</td>\n",
       "      <td>18.273</td>\n",
       "      <td>1.210</td>\n",
       "      <td>United States</td>\n",
       "      <td>64.8914</td>\n",
       "    </tr>\n",
       "  </tbody>\n",
       "</table>\n",
       "<p>1365 rows × 5 columns</p>\n",
       "</div>"
      ],
      "text/plain": [
       "             Date  Monthly AverageTemp  Monthly AverageTemp Uncertainty        Country  Monthly AverageTemp F\n",
       "553217 1900-01-01               -2.573                            0.443  United States                27.3686\n",
       "553218 1900-02-01               -2.912                            0.533  United States                26.7584\n",
       "553219 1900-03-01                2.636                            0.358  United States                36.7448\n",
       "553220 1900-04-01                8.091                            0.263  United States                46.5638\n",
       "553221 1900-05-01               14.317                            0.239  United States                57.7706\n",
       "...           ...                  ...                              ...            ...                    ...\n",
       "554577 2013-05-01               14.073                            0.178  United States                57.3314\n",
       "554578 2013-06-01               20.198                            0.236  United States                68.3564\n",
       "554579 2013-07-01               22.074                            0.152  United States                71.7332\n",
       "554580 2013-08-01               21.168                            0.249  United States                70.1024\n",
       "554581 2013-09-01               18.273                            1.210  United States                64.8914\n",
       "\n",
       "[1365 rows x 5 columns]"
      ]
     },
     "execution_count": 21,
     "metadata": {},
     "output_type": "execute_result"
    }
   ],
   "source": [
    "UStemp = temp.loc[(temp.Country == \"United States\")]\n",
    "UStemp.loc['Date'] = pd.to_datetime(UStemp['Date'])\n",
    "date_object = datetime.datetime(1900,1,1)\n",
    "UStemp = UStemp.loc[(UStemp.Date >= date_object)]\n",
    "UStemp['Monthly AverageTemp F'] = ( UStemp['Monthly AverageTemp'] * 1.8) + 32\n",
    "UStemp"
   ]
  },
  {
   "cell_type": "markdown",
   "metadata": {},
   "source": [
    "### Part B"
   ]
  },
  {
   "cell_type": "code",
   "execution_count": 24,
   "metadata": {
    "collapsed": false,
    "scrolled": true
   },
   "outputs": [
    {
     "data": {
      "text/plain": [
       "<matplotlib.figure.Figure at 0x20025cfab38>"
      ]
     },
     "metadata": {},
     "output_type": "display_data"
    },
    {
     "data": {
      "image/png": "[encoded data removed]",
      "text/plain": [
       "<matplotlib.figure.Figure at 0x200260669e8>"
      ]
     },
     "metadata": {},
     "output_type": "display_data"
    }
   ],
   "source": [
    "UStemp[\"Year\"] = UStemp['Date'].dt.year\n",
    "UStempgrouped = UStemp.groupby(\"Year\")\n",
    "UStemp_yearly_avg = UStempgrouped.agg(np.average)\n",
    "UStemp_yearly_avg = UStemp_yearly_avg.drop('Monthly AverageTemp Uncertainty',1)\n",
    "UStemp_yearly_avg = UStemp_yearly_avg.drop('Monthly AverageTemp',1)\n",
    "plt.figure()\n",
    "plot = UStemp_yearly_avg.plot(legend=False)\n",
    "plt.ylabel('Temp in F')\n",
    "plt.show()"
   ]
  },
  {
   "cell_type": "markdown",
   "metadata": {},
   "source": [
    "### Part C"
   ]
  },
  {
   "cell_type": "code",
   "execution_count": 25,
   "metadata": {
    "collapsed": false
   },
   "outputs": [],
   "source": [
    "twoyearave = []\n",
    "for index, row in UStemp_yearly_avg.iterrows():\n",
    "    if index+1 not in UStemp_yearly_avg.index:\n",
    "        break\n",
    "    yearplus = index + 1\n",
    "    years = \"%s-%s\" % (index,yearplus)\n",
    "    thisyear = row[\"Monthly AverageTemp F\"]\n",
    "    nextyear = UStemp_yearly_avg.loc[yearplus][\"Monthly AverageTemp F\"]\n",
    "    diff = thisyear - nextyear\n",
    "    twoyearave.append((years,format(diff,'.4f')))"
   ]
  },
  {
   "cell_type": "code",
   "execution_count": 26,
   "metadata": {
    "collapsed": false
   },
   "outputs": [
    {
     "name": "stdout",
     "output_type": "stream",
     "text": [
      "('1900-1901', '0.9480')\n",
      "('1901-1902', '0.0737')\n",
      "('1902-1903', '0.8582')\n",
      "('1903-1904', '-0.4022')\n",
      "('1904-1905', '-0.3630')\n"
     ]
    }
   ],
   "source": [
    "for i in twoyearave[:5]:\n",
    "    print(i)"
   ]
  },
  {
   "cell_type": "markdown",
   "metadata": {},
   "source": [
    "# Part III"
   ]
  },
  {
   "cell_type": "code",
   "execution_count": 27,
   "metadata": {
    "collapsed": false,
    "scrolled": true
   },
   "outputs": [
    {
     "data": {
      "text/html": [
       "<div>\n",
       "<table border=\"1\" class=\"dataframe\">\n",
       "  <thead>\n",
       "    <tr style=\"text-align: right;\">\n",
       "      <th></th>\n",
       "      <th>Max</th>\n",
       "      <th>Min</th>\n",
       "      <th>Difference</th>\n",
       "    </tr>\n",
       "    <tr>\n",
       "      <th>City</th>\n",
       "      <th></th>\n",
       "      <th></th>\n",
       "      <th></th>\n",
       "    </tr>\n",
       "  </thead>\n",
       "  <tbody>\n",
       "    <tr>\n",
       "      <th>Harbin</th>\n",
       "      <td>26.509</td>\n",
       "      <td>-26.772</td>\n",
       "      <td>53.281</td>\n",
       "    </tr>\n",
       "    <tr>\n",
       "      <th>Changchun</th>\n",
       "      <td>26.572</td>\n",
       "      <td>-23.272</td>\n",
       "      <td>49.844</td>\n",
       "    </tr>\n",
       "    <tr>\n",
       "      <th>Moscow</th>\n",
       "      <td>24.580</td>\n",
       "      <td>-19.376</td>\n",
       "      <td>43.956</td>\n",
       "    </tr>\n",
       "    <tr>\n",
       "      <th>Shenyang</th>\n",
       "      <td>26.010</td>\n",
       "      <td>-17.035</td>\n",
       "      <td>43.045</td>\n",
       "    </tr>\n",
       "    <tr>\n",
       "      <th>Montreal</th>\n",
       "      <td>23.059</td>\n",
       "      <td>-18.363</td>\n",
       "      <td>41.422</td>\n",
       "    </tr>\n",
       "    <tr>\n",
       "      <th>...</th>\n",
       "      <td>...</td>\n",
       "      <td>...</td>\n",
       "      <td>...</td>\n",
       "    </tr>\n",
       "    <tr>\n",
       "      <th>Tangshan</th>\n",
       "      <td>27.346</td>\n",
       "      <td>-7.487</td>\n",
       "      <td>34.833</td>\n",
       "    </tr>\n",
       "    <tr>\n",
       "      <th>New York</th>\n",
       "      <td>25.313</td>\n",
       "      <td>-9.147</td>\n",
       "      <td>34.460</td>\n",
       "    </tr>\n",
       "    <tr>\n",
       "      <th>Baghdad</th>\n",
       "      <td>38.283</td>\n",
       "      <td>4.236</td>\n",
       "      <td>34.047</td>\n",
       "    </tr>\n",
       "    <tr>\n",
       "      <th>Berlin</th>\n",
       "      <td>23.795</td>\n",
       "      <td>-10.125</td>\n",
       "      <td>33.920</td>\n",
       "    </tr>\n",
       "    <tr>\n",
       "      <th>Jinan</th>\n",
       "      <td>28.389</td>\n",
       "      <td>-5.389</td>\n",
       "      <td>33.778</td>\n",
       "    </tr>\n",
       "  </tbody>\n",
       "</table>\n",
       "<p>20 rows × 3 columns</p>\n",
       "</div>"
      ],
      "text/plain": [
       "              Max     Min  Difference\n",
       "City                                 \n",
       "Harbin     26.509 -26.772      53.281\n",
       "Changchun  26.572 -23.272      49.844\n",
       "Moscow     24.580 -19.376      43.956\n",
       "Shenyang   26.010 -17.035      43.045\n",
       "Montreal   23.059 -18.363      41.422\n",
       "...           ...     ...         ...\n",
       "Tangshan   27.346  -7.487      34.833\n",
       "New York   25.313  -9.147      34.460\n",
       "Baghdad    38.283   4.236      34.047\n",
       "Berlin     23.795 -10.125      33.920\n",
       "Jinan      28.389  -5.389      33.778\n",
       "\n",
       "[20 rows x 3 columns]"
      ]
     },
     "execution_count": 27,
     "metadata": {},
     "output_type": "execute_result"
    }
   ],
   "source": [
    "city = pd.read_csv('CityTemp.csv')\n",
    "city['Date'] = pd.to_datetime(city['Date'])\n",
    "city = city.loc[(city.Date >= datetime.datetime(1900,1,1))]\n",
    "city_grouped = city.groupby('City')\n",
    "city_grouped_difference = city_grouped[\"Monthly AverageTemp\"].agg({'Max':np.max,'Min':np.min})\n",
    "city_grouped_difference['Difference'] = city_grouped_difference['Max'] - city_grouped_difference['Min']\n",
    "city_grouped_difference = city_grouped_difference.sort_values('Difference',ascending=False)\n",
    "city_grouped_difference = city_grouped_difference.head(20)\n",
    "city_grouped_difference"
   ]
  },
  {
   "cell_type": "code",
   "execution_count": 28,
   "metadata": {
    "collapsed": false
   },
   "outputs": [
    {
     "data": {
      "text/plain": [
       "<matplotlib.figure.Figure at 0x200260a0c50>"
      ]
     },
     "metadata": {},
     "output_type": "display_data"
    },
    {
     "data": {
      "image/png": "[encoded data removed]",
      "text/plain": [
       "<matplotlib.figure.Figure at 0x20026f589e8>"
      ]
     },
     "metadata": {},
     "output_type": "display_data"
    }
   ],
   "source": [
    "plt.figure()\n",
    "plot = city_grouped_difference.plot(kind='bar')\n",
    "plt.show()"
   ]
  },
  {
   "cell_type": "markdown",
   "metadata": {},
   "source": [
    "# Part 4\n",
    "The graphs have a similar shape. The difference in temperates from the City data set are generally lower than the \"Temp\" dataset, which records monthly temperates by country. It's interesting that three of the four cities with the most extreme temperature are in China, yet as a country, it does not appear in the top 20 amoung other countries.  "
   ]
  }
 ],
 "metadata": {
  "anaconda-cloud": {},
  "kernelspec": {
   "display_name": "Python [conda root]",
   "language": "python",
   "name": "conda-root-py"
  },
  "language_info": {
   "codemirror_mode": {
    "name": "ipython",
    "version": 3
   },
   "file_extension": ".py",
   "mimetype": "text/x-python",
   "name": "python",
   "nbconvert_exporter": "python",
   "pygments_lexer": "ipython3",
   "version": "3.5.2"
  }
 },
 "nbformat": 4,
 "nbformat_minor": 1
}
